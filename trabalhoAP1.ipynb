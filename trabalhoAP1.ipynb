{
  "nbformat": 4,
  "nbformat_minor": 0,
  "metadata": {
    "colab": {
      "provenance": [],
      "authorship_tag": "ABX9TyOkIXDq4z3uymIZsc9/8hpH",
      "include_colab_link": true
    },
    "kernelspec": {
      "name": "python3",
      "display_name": "Python 3"
    },
    "language_info": {
      "name": "python"
    }
  },
  "cells": [
    {
      "cell_type": "markdown",
      "metadata": {
        "id": "view-in-github",
        "colab_type": "text"
      },
      "source": [
        "<a href=\"https://colab.research.google.com/github/Maykonvieira/leituradearquivos1/blob/main/trabalhoAP1.ipynb\" target=\"_parent\"><img src=\"https://colab.research.google.com/assets/colab-badge.svg\" alt=\"Open In Colab\"/></a>"
      ]
    },
    {
      "cell_type": "code",
      "source": [
        "#MATRICULA: 2024013120\n",
        "#NOME : MAYKON VIEIRA BARBOSA\n",
        "\n",
        "!pip install python-docx #Instalando a biblioteca pythondocx no codigo\n",
        "\n",
        "import os #Colocando o módulo que permite interagir com o sistema de arquivos\n",
        "from docx import Document #Criando a classe document para modificar arquivos da microsoft\n",
        "\n",
        "pasta_nome = \"nova_pasta\" #É onde o arquivo word sera criado. Variavel pasta_nome recebe string nova_pasta\n",
        "if not os.path.exists(pasta_nome): #Retorna true se o arquivo existir ou false se nao existir\n",
        "    os.makedirs(pasta_nome) #Função para criar a pasta caso ela nao exista\n",
        "\n",
        "arquivo_nome = os.path.join(pasta_nome, \"meuarquivo.docx\") #Usado para criar um caminho até o sistema operacional de maneira segura\n",
        "document = Document() #document ta sendo usado para adicionar conteudo\n",
        "\n",
        "numeros = [1, 2, 3, 4, 5] #Lista de números que sera usado para fazer media, mediana, etc\n",
        "for numero in numeros: #Um loop que percorrera cada numero\n",
        "  document.add_paragraph(str(numero)) #Usado pro número virar um paragrafo dentro do documento\n",
        "\n",
        "document.save(arquivo_nome) #Salvando o documento\n",
        "\n",
        "print(f\"Arquivo '{arquivo_nome}' criado com sucesso na pasta '{pasta_nome}'.\") #Mensagem que avisa que tudo ocorreu corretamente\n"
      ],
      "metadata": {
        "colab": {
          "base_uri": "https://localhost:8080/"
        },
        "id": "PcXS9wsGycgh",
        "outputId": "a4429f04-f277-445c-b28c-45360086d14a"
      },
      "execution_count": 4,
      "outputs": [
        {
          "output_type": "stream",
          "name": "stdout",
          "text": [
            "Requirement already satisfied: python-docx in /usr/local/lib/python3.11/dist-packages (1.1.2)\n",
            "Requirement already satisfied: lxml>=3.1.0 in /usr/local/lib/python3.11/dist-packages (from python-docx) (5.3.1)\n",
            "Requirement already satisfied: typing-extensions>=4.9.0 in /usr/local/lib/python3.11/dist-packages (from python-docx) (4.13.0)\n",
            "Arquivo 'nova_pasta/meuarquivo.docx' criado com sucesso na pasta 'nova_pasta'.\n"
          ]
        }
      ]
    },
    {
      "cell_type": "code",
      "source": [
        "#MATRICULA: 2024013120\n",
        "#NOME : MAYKON VIEIRA BARBOSA\n",
        "\n",
        "import os #Colocando o módulo que permite interagir com o sistema de arquivos\n",
        "import statistics #Servira para calcular a media, medianam,etc\n",
        "from docx import Document #Utilazado para ler documentos do tipo docs\n",
        "\n",
        "\n",
        "def ler_docx(caminho_arquivo): #Vai receber um caminho de arquivo e retornara em uma lista de numeros do documento\n",
        "    numeros = [] #Onde os numeros tirados do arquivo serão armazenados\n",
        "    try: #Executando o codigo dentro do bloco try\n",
        "        doc = Document(caminho_arquivo) #Abre o arquivo e permite ver o seu conteudo\n",
        "        for para in doc.paragraphs: #Percorre os paragrafos do documento\n",
        "            try:\n",
        "                numero = float(para.text.strip()) #O texto será extraido para cada paragrafo\n",
        "                numeros.append(numero) #Adiciona o numero convertido a lista\n",
        "            except ValueError: #Se o numero nao for valido, um valueerror aparecera\n",
        "                continue\n",
        "    except Exception as e: #Se tiver outro erro, excessão sera capturada e a mensagem de erro é impressa\n",
        "        print(f\"Erro ao ler o arquivo .docx: {e}\") #Mensagem de erro, caso nao der certo\n",
        "    return numeros #Retorna a lista de valores tirados do arquivo\n",
        "\n",
        "\n",
        "def ler_pdf(caminho_arquivo): #Função que recebe o caminho do arquivo\n",
        "    numeros = [] #Onde os numeros serão armazenados\n",
        "    try:\n",
        "        with pdfplumber.open(caminho_arquivo) as pdf: #Usado para abrir o arquivo pdf\n",
        "            for pagina in pdf.pages: #Percorre o arquivo pdf\n",
        "                texto = pagina.extract_text() #Extrai o texto do pdf\n",
        "                for linha in texto.split(\"\\n\"): #Divide o texto em linhas\n",
        "                    try:\n",
        "                        numero = float(linha.strip()) #Remove espaços em brancos a mais\n",
        "                        numeros.append(numero) #Adiciona o numero convertido a lista\n",
        "                    except ValueError: #Se nao for numero valido, dara valueerror\n",
        "                        continue\n",
        "    except Exception as e: #Se tiver outro erro, a mensagem sera exibida\n",
        "        print(f\"Erro ao ler o arquivo .pdf: {e}\") #Mensagem de erro caso nao der certo\n",
        "    return numeros #Retorna a lista de numero do arquivo pdf\n",
        "\n",
        "def calcular_estatisticas(): #Usado para ler o dados estatisticos\n",
        "\n",
        "    diretorio = \"documentos\" #Define o caminho onde os arquivos estao localizados\n",
        "    arquivo_pdf = os.path.join(diretorio, \"dados.pdf\") #Cria o caminho do arquivo pdf no diretorio documentos\n",
        "    arquivo_docx = os.path.join(diretorio, \"dados.docx\") #Cria o caminho do arquivo docx no diretorio documentos\n",
        "\n",
        "    if os.path.exists(arquivo_pdf): #Verifica se o arquivo pdf existe no diretorio\n",
        "        print(\"Arquivo .pdf encontrado. Lendo dados...\") #Mensagem confirmando que o arquivo foi encontrado, caso exista\n",
        "        numeros = ler_pdf(arquivo_pdf) #Vai ler os numeros do arquivo pdf\n",
        "    elif os.path.exists(arquivo_docx): #Se o arquivo pdf nao for encontrando, isso vai verificar se existe o docx no diretorio\n",
        "        print(\"Arquivo .docx encontrado. Lendo dados...\") #Mensagem mostrando que o arquivo foi encontrado\n",
        "        numeros = ler_docx(arquivo_docx) #Vai ler os numeros do arquivo docx\n",
        "    else: #repetir a mensagem da linha de baixo caso nao econtro o arquivo\n",
        "        print(\"Nenhum arquivo .pdf ou .docx encontrado no diretório 'documentos'.\")\n",
        "        return\n",
        "\n",
        "    if not numeros: #Verificando se a lista numeros está vazia\n",
        "        print(\"O arquivo está vazio ou não contém números válidos.\") #Mensagem, caso o arquivo esteja vazio\n",
        "        return\n",
        "\n",
        "    try:\n",
        "        soma = sum(numeros) #Calcula a soma de todo os numeros\n",
        "        media = statistics.mean(numeros) #Calcula a media dos numeros\n",
        "        mediana = statistics.median(numeros) #Calcula a mediana dos numeros\n",
        "        maior = max(numeros) #Mostra o maior valor\n",
        "        menor = min(numeros) #Mostra o menor valor\n",
        "\n",
        "        print(f\"Média: {media}\") #Imprimi a media\n",
        "        print(f\"Mediana: {mediana}\") #Imprimi a mediana\n",
        "        print(f\"Somatório: {soma}\") #Imprimi a soma\n",
        "        print(f\"Maior valor: {maior}\") #Imprimi o maior valor\n",
        "        print(f\"Menor valor: {menor}\") #Imprimi o menor valor\n",
        "\n",
        "    except Exception as e: #Caso tenha um erro ao calcular as estastisticas, a excessão é capturada e a mensagem de erro é mostrada\n",
        "        print(f\"Erro ao calcular as estatísticas: {e}\") #Imprimi a mensagem de erro, caso tenha\n",
        "\n",
        "if __name__ == \"__main__\": #Verificando se o script esta sendo executado diretamente\n",
        "    calcular_estatisticas() #Função para iniciar o processo de leitura dos arquivos"
      ],
      "metadata": {
        "colab": {
          "base_uri": "https://localhost:8080/"
        },
        "id": "VCtyTfylvKuQ",
        "outputId": "798a7439-b722-4aed-e5e5-ff50fa380d5e"
      },
      "execution_count": 11,
      "outputs": [
        {
          "output_type": "stream",
          "name": "stdout",
          "text": [
            "Arquivo .docx encontrado. Lendo dados...\n",
            "Média: 3.0\n",
            "Mediana: 3.0\n",
            "Somatório: 15.0\n",
            "Maior valor: 5.0\n",
            "Menor valor: 1.0\n"
          ]
        }
      ]
    }
  ]
}